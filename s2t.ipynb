{
 "cells": [
  {
   "cell_type": "code",
   "execution_count": 1,
   "metadata": {},
   "outputs": [],
   "source": [
    "import torch\n",
    "import torchaudio\n",
    "from seamless_communication.models.inference import Translator\n",
    "import os\n",
    "from pydub import AudioSegment \n",
    "import requests\n"
   ]
  },
  {
   "cell_type": "code",
   "execution_count": 2,
   "metadata": {},
   "outputs": [],
   "source": [
    "\n",
    "def find_mp4_files(folder_path):\n",
    "    mp4_files = []\n",
    "    #print(f\"Searching in folder: {folder_path}\")  # Debugging line\n",
    "    for dirpath, _, filenames in os.walk(folder_path):\n",
    "       # print(f\"Checking directory: {dirpath}\")  # Debugging line\n",
    "        for filename in filenames:\n",
    "           # print(f\"Checking file: {filename}\")  # Debugging line\n",
    "            if filename.lower().endswith('.mp4'):  # Case-insensitive search\n",
    "                full_path = os.path.join(dirpath, filename)\n",
    "               # print(f\"Found mp4 file: {full_path}\")  # Debugging line\n",
    "                mp4_files.append(full_path)\n",
    "    return mp4_files\n",
    "\n",
    "# 1. 모든 하위 폴더 목록 찾기 (절대 경로 사용)\n",
    "root_folder = '/home2/nia/nia_s2t/01. 원천데이터'\n",
    "sub_folders = [f.path for f in os.scandir(root_folder) if f.is_dir()]\n",
    "#print(\"Sub-folders:\", sub_folders)\n",
    "\n",
    "# 2. 추가 폴더가 있다고 가정하고, 각 폴더에 접근해 mp4 파일 찾기\n",
    "all_mp4_files = []\n",
    "for sub_folder_path in sub_folders:\n",
    "   # print(f\"Exploring sub-folder: {sub_folder_path}\")  # Debugging line\n",
    "    all_mp4_files.extend(find_mp4_files(sub_folder_path))\n",
    "\n"
   ]
  },
  {
   "cell_type": "code",
   "execution_count": 3,
   "metadata": {},
   "outputs": [],
   "source": [
    "def mp4_to_wav(mp4_path):\n",
    "    audio = AudioSegment.from_file(mp4_path, format=\"mp4\")\n",
    "    wav_path = mp4_path.replace(\".mp4\", \".wav\")\n",
    "    audio.export(wav_path, format=\"wav\")\n",
    "    return wav_path"
   ]
  },
  {
   "cell_type": "code",
   "execution_count": 4,
   "metadata": {},
   "outputs": [],
   "source": [
    "import base64\n",
    "import json\n",
    "import logging\n",
    "import os\n",
    "import shutil\n",
    "import subprocess\n",
    "import tempfile\n",
    "import warnings\n",
    "from io import BytesIO\n",
    "from pathlib import Path\n",
    "\n",
    "import numpy as np\n",
    "from ffmpy import FFmpeg, FFprobe, FFRuntimeError\n",
    "with warnings.catch_warnings():\n",
    "    warnings.simplefilter(\"ignore\")  # Ignore pydub warning if ffmpeg is not installed\n",
    "    from pydub import AudioSegment\n"
   ]
  },
  {
   "cell_type": "code",
   "execution_count": 5,
   "metadata": {},
   "outputs": [
    {
     "name": "stderr",
     "output_type": "stream",
     "text": [
      "Using the cached checkpoint of the model 'seamlessM4T_medium'. Set `force=True` to download again.\n",
      "Using the cached tokenizer of the model 'seamlessM4T_medium'. Set `force=True` to download again.\n",
      "Using the cached checkpoint of the model 'vocoder_36langs'. Set `force=True` to download again.\n"
     ]
    }
   ],
   "source": [
    "translator_medium = Translator(\"seamlessM4T_medium\",\"vocoder_36langs\", torch.device(\"cuda:0\"))"
   ]
  },
  {
   "cell_type": "code",
   "execution_count": 6,
   "metadata": {},
   "outputs": [
    {
     "name": "stderr",
     "output_type": "stream",
     "text": [
      "Using the cached checkpoint of the model 'seamlessM4T_large'. Set `force=True` to download again.\n",
      "Using the cached tokenizer of the model 'seamlessM4T_large'. Set `force=True` to download again.\n",
      "Using the cached checkpoint of the model 'vocoder_36langs'. Set `force=True` to download again.\n"
     ]
    }
   ],
   "source": [
    "import os\n",
    "# Set ulimit\n",
    "os.system('ulimit -n 4096')\n",
    "\n",
    "# # Initialize the Translator\n",
    "translator_large = Translator(\"seamlessM4T_large\",\"vocoder_36langs\", torch.device(\"cuda:0\"))\n"
   ]
  },
  {
   "cell_type": "code",
   "execution_count": 9,
   "metadata": {},
   "outputs": [],
   "source": [
    "test = all_mp4_files[:10]"
   ]
  },
  {
   "cell_type": "markdown",
   "metadata": {},
   "source": [
    "### 모델 input 전처리\n",
    "- mp4를 16 kHz wav 포맷으로 바꾸기"
   ]
  },
  {
   "cell_type": "code",
   "execution_count": 6,
   "metadata": {},
   "outputs": [],
   "source": [
    "import numpy as np\n",
    "import warnings\n",
    "from pydub import AudioSegment\n",
    "\n",
    "def convert_to_16_bit_wav(data):\n",
    "    if data.dtype in [np.float64, np.float32, np.float16]:\n",
    "        warnings.warn(\"Trying to convert audio automatically from {} to 16-bit int format.\".format(data.dtype))\n",
    "        data = data / np.abs(data).max()\n",
    "        data = data * 32767\n",
    "        data = data.astype(np.int16)\n",
    "    elif data.dtype == np.int32:\n",
    "        warnings.warn(\"Trying to convert audio automatically from {} to 16-bit int format.\".format(data.dtype))\n",
    "        data = data / 65538\n",
    "        data = data.astype(np.int16)\n",
    "    elif data.dtype == np.int16:\n",
    "        pass\n",
    "    else:\n",
    "        raise ValueError(\"Audio data cannot be converted automatically from {} to 16-bit int format.\".format(data.dtype))\n",
    "    return data\n",
    "\n",
    "\n",
    "\n",
    "def mp4_to_wav_16bit(mp4_path, max_length=4096):\n",
    "    audio = AudioSegment.from_file(mp4_path, format=\"mp4\")\n",
    "    data = np.array(audio.get_array_of_samples())\n",
    "    if audio.channels > 1:\n",
    "        data = data.reshape(-1, audio.channels)\n",
    "    sample_rate = audio.frame_rate\n",
    "    \n",
    "    data = convert_to_16_bit_wav(data)\n",
    "    \n",
    "    wav_path = mp4_path.replace(\".mp4\", \"_16bit.wav\")\n",
    "    audio = AudioSegment(\n",
    "        data.tobytes(),\n",
    "        frame_rate=sample_rate,\n",
    "        sample_width=data.dtype.itemsize,\n",
    "        channels=(1 if len(data.shape) == 1 else data.shape[1]),\n",
    "    )\n",
    "    audio.export(wav_path, format=\"wav\")\n",
    "\n",
    "    # Additional code for resampling\n",
    "    resample_rate = 16000  # Target sample rate\n",
    "    waveform, sample_rate = torchaudio.load(wav_path)  # Load the existing wav file\n",
    "    \n",
    "    if sample_rate != resample_rate:\n",
    "        resampler = torchaudio.transforms.Resample(sample_rate, resample_rate, dtype=waveform.dtype)\n",
    "        waveform = resampler(waveform)\n",
    "    \n",
    "    # Truncate or pad audio data to fit model's max input length\n",
    "    if waveform.shape[1] > max_length:\n",
    "        waveform = waveform[:, :max_length]\n",
    "    elif waveform.shape[1] < max_length:\n",
    "        pad_amount = max_length - waveform.shape[1]\n",
    "        waveform = torch.nn.functional.pad(waveform, (0, pad_amount), 'constant', 0)\n",
    "    \n",
    "    torchaudio.save(wav_path, waveform, resample_rate)  # Save the resampled (and possibly truncated) audio\n",
    "    \n",
    "    return wav_path\n",
    "\n"
   ]
  },
  {
   "cell_type": "markdown",
   "metadata": {},
   "source": [
    "### 두 모델 성능 비교"
   ]
  },
  {
   "cell_type": "code",
   "execution_count": 11,
   "metadata": {},
   "outputs": [
    {
     "name": "stdout",
     "output_type": "stream",
     "text": [
      "Translated text: 그렇게 해서 가는 교수의 자유성도 인정해줘야 되는 거예요. 단지 그 사호처리가 학교가 엉망으로 하고 있다는 증거내리 사항이 아니지 않느냐? 국문관은 논란이 된 직후인 지난해 삼월 논문 두 편이랑 교수 채용 기준을 단동 논문 두편으로 수정했습니다. KBS 뉴스 주현지입니다. 전남 나주의 한 농촌 마을에서\n",
      "Translated text: 서울시교육청은 내일 오전 여덟시 사십분부터 전국 고등학교 일 이 삼 학년 학생 구십 오 만여 명이 올해 첫 전국 연합 학력 평가를 치른다고 밝혔습니다. 지난해는 코로나 일 구의 영향으로 학년별로 나노 평가를 실시했지만 올해는 모든 학년이 같은 날 동시에 시험을 치른다. 재택 응시자는 전국 연합학력 평가 온라인 시스템의 교시별 시작 시간에 맞춰 제공되는 문제지로 응시할 수 있지만\n",
      "Translated text: 지난해 통합교육 시행 이후 장애학생들의 인지능력과 학장부진한 학생들도 많이 보이거든요. 그리고 비장애 학생들도 많이 나아지지 않을까요? 그리고 그 학교는 통합교육을 통해 통합 교육과 함께 할 수 있는 학교가 늘어나게 될 것으로 예상됩니다.\n",
      "Translated text: 부산대 의원원에 입학한 뒤 이천십 년과 이천이십일 년 초 의사 국가고시 실기시험과 필기시험에 합격했습니다. 이번 입학 취소 결정으로 의사면허 취소 여부에도 영향을 끼칠 것으로 보입니다. 현행 의료법상\n",
      "Translated text: 학부모들은 의무검사가 아니라 다행이라면서도 걱정이 떨어지는 것 같고 아이들이 부모가 아이를 한다는 것에 대해 좀 힘들어하고 부모다 보면 더 편안한 사실이 있을 때 아마 이렇게 뭐 억지로 한다든가 그런 부분이 너무 힘들을 것 같아요. 학교에서 실시하는 게 더 실효성이 있을 것 같아요.\n",
      "Translated text: 지역 기업과 기관 사십 여곳에 취업할 기회도 어떻게 됩니다. 인재들이 디지털 영량적 코딩 관련 기술을 진입오기를 기대하고 있습니다. 학생들에게 기업체가 요구하는 인재가 될 수 있도록 지방 소멸을 받고 지방 대학을 살리기 위해\n",
      "Translated text: 정부 대책이 절실합니다. 케이베스 뉴스 민손입니다. 오늘부터 충남에 사는 어린이와 만 열여덟 살 미만의 청소년은 시내 버스를 하루에 세 번까지 무료로 탈 수 있습니다. 전국에서 처음으로 도입한 교통복지 정책인데\n",
      "Translated text: 적합하지 않은 지적이라고 반박했습니다. 국수학 같은 경우는 어쨌든 전체 수음생활 대상으로 #어 평가가 진행되고 있다는 점 통화평 수능에 맞춰서 지금 문항이 출제가 되고 있다. 다만 선택과목이 너무 쉽거나 어려워서 유불리 문제가 발생하지 않도록 문항출제에 신경 쓰겠다고 밝혔습니다.\n",
      "Translated text: 처벌할 수 없다는 입법불비를 나타낸 것으로서 앞으로 영유법의 개정을 통해 에이 씨는 개인정보보호법 위반 혐의로도 기소돼 있어 파견송심에서는 이에 대한 심리가 진행될 전망입니다 키비스 뉴스 김민철입니다 일본산 참동 등을 국내산이라고 소개 판매해 오 억원이 넘는 부당이득을 챙긴 일당이 적당됐습니다\n",
      "Translated text: 이름은 교육시설 환경개성기금입니다. 벌써 일 조 팔천 억원이 쌓였습니다. 여기에 재정기금을 도하면 교육청들의 두 기금으로 쌓아놓은 돈은 오 조원 가까이 됩니다. 교육예산이 남는 것을 숨기기 위한 사업이라는 비판이 나옵니다.\n"
     ]
    }
   ],
   "source": [
    "for mp4_file in test:\n",
    "    wav_file = mp4_to_wav_16bit(mp4_file)  # Convert MP4 to 16-bit WAV\n",
    "    #translated_text, wav, sr = translator_large.predict(\n",
    "    translated_text, wav, sr = translator_medium.predict(\n",
    "        wav_file,\n",
    "        \"s2st\",  # Change this based on your task\n",
    "        \"kor\",  # Korean language\n",
    "        ngram_filtering=True\n",
    "    )\n",
    "    \n",
    "    print(f\"Translated text: {translated_text}\")"
   ]
  },
  {
   "cell_type": "code",
   "execution_count": 12,
   "metadata": {},
   "outputs": [
    {
     "name": "stdout",
     "output_type": "stream",
     "text": [
      "Translated text: 다르게 해석하는 교수의 자율성도 인정해 ⁇ 야 되는 거예요. 단지 그 사호트리가 학교가  ⁇ 망으로 하고 있다는 게 징계내리 상황이 아닌가요? 고문관은 논란이 된 직후인 지난해 3월 논문 두 편인 교수 채용 기준을 단독 논문 두편으로 수정했습니다. KBSNews 수현지입니다. 전남 나주에서\n",
      "Translated text: 서울시교육청은 내일 오전 여 ⁇ 시 사십분부터 전국의 고등학교 일 이 삼 학년 학생 구십 오만여 명이 올해 첫 전국 통합학력 평가를 실시한다고 밝혔다. 지난해는 코로나 일곱의 영향으로 학년별로 나누어 평가를 실시했지만 올해는 모든 학년이 같은 날 동시에 시험을 치른다. 재택시자는 전국 연합학력 평가 온라인 시스템의 시작 시간에 맞춰 제공되는 문제로 적용할 수 있지만\n",
      "Translated text: 지난해 통합교육을 실시한 이후에 모두가 함께 하는 교실이 크게 향상되고 있는 것으로 분석됐습니다. 비장애 학생들도 통합교육을 통해 장애인에 대한 부담도 줄어들었는데요.\n",
      "Translated text: 부산대 의전원에 입학한 후 이천 이십 년과 이천 이백 일 년 초 의사국가고시 실기시험과 필기시험에 합격했습니다. 이번 입학 취소 결정으로 의사 면허 취소 여부에도 영향을 미칠 것으로 보입니다. 현행 의료법상\n",
      "Translated text: 학부모들은 의무검사가 아니라 다행이라고 하면서도 걱정이 앞선다. 집에 와서 아이들이 부모가 아이를 낳는 것에 대해 정확성도 좀 떨어지는 것 같고 아이들이 많이 힘들고 부모보다 좀 더 편안해지는 사실이 있기 때문에 #아 아이들이 거부능력을 갖추었을 때 이런 부분이 너무 힘들 것 같아요. 학교에서 실습을 하는 것이 더 힘들 것 같습니다.\n",
      "Translated text: 지역 기업과 기관 사십여 곳에서 취업할 기회도 얻게 됩니다 인재들이 디지털 영향력 코딩 관련한 기술을 지니고 오기를 기대하고 있습니다 학생들에게 기업체가 요구하는 인재가 될 수 있도록 지방소멸을 받고 지방대학을 살리기 위해\n",
      "Translated text: 정부 대책이 절실합니다. 케이베스뉴스 민소원입니다. 오늘부터 충남에 사는 어린이와 만 18세 미만의 청소년은 시내버스를 하루에 세 번까지 무료로 탈 수 있습니다. 전국에서 처음으로 도입한 교통복지 정책인데\n",
      "Translated text: 적합하지 않은 지점이라고 반박했습니다. 거기 수학 같은 경우는 어 ⁇ 든 전체 수학을 대상으로 #어 평가가 진행되고 있다는 점 그 통합적 능력의 취지에 맞춰서 지금 문헌이 출제가 되고 있습니다. 다만 선택 과목이 너무 쉽거나 어려워서 유무리 문제가 발생하지 않도록 문헌 출제에 신경 쓰겠다고 밝혔습니다.\n",
      "Translated text: 처벌할 수 없는 입법 불법을 나타내는 것으로서 앞으로 영업법 위반 혐의로도 기소돼 있어 파기된 송심에서는 이에 대한 심리가 진행될 전망입니다. 케이비스뉴스 김민철입니다. 일본산 참 ⁇  등을 국내산이라고 속여 팔아서 오 억원 이상의 부당이  ⁇ 긴 일당이 적발됐습니다.\n",
      "Translated text: 이름은 교육시설 환경개선기금입니다. 벌써 일 조 팔천 억원이 쌓였습니다. 여기에 재정기금을 들면 교육청들의 두 기금으로 쌓아 놓은 돈은 오 조원 가까이 됩니다. 교육예산이 남는다는 것을 숨기기 위한 사업이라는 비판이 나옵니다.\n"
     ]
    }
   ],
   "source": [
    "for mp4_file in test:\n",
    "    #print(mp4_file)\n",
    "    wav_file = mp4_to_wav_16bit(mp4_file)  # Convert MP4 to 16-bit WAV\n",
    "    translated_text, wav, sr = translator_large.predict(\n",
    "    #translated_text, wav, sr = translator.predict(\n",
    "        wav_file,\n",
    "        \"s2st\",  # Change this based on your task\n",
    "        \"kor\",  # Korean language\n",
    "        ngram_filtering=True\n",
    "    )\n",
    "    \n",
    "    print(f\"Translated text: {translated_text}\")"
   ]
  },
  {
   "cell_type": "code",
   "execution_count": 12,
   "metadata": {},
   "outputs": [
    {
     "name": "stdout",
     "output_type": "stream",
     "text": [
      "/home2/nia/nia_s2t/01. 원천데이터/24. 교육뉴스/KND_00025.mp4\n",
      "Translated text: 다르게 해석하는 교수의 자율성도 인정해 ⁇ 야 되는 거예요. 단지 그 사호트리가 학교가  ⁇ 망으로 하고 있다는 게 징계내리 상황이 아닌가요? 고문관은 논란이 된 직후인 지난해 3월 논문 두 편인 교수 채용 기준을 단독 논문 두편으로 수정했습니다. KBSNews 수현지입니다. 전남 나주에서\n",
      "/home2/nia/nia_s2t/01. 원천데이터/24. 교육뉴스/KND_00047.mp4\n",
      "Translated text: 서울시교육청은 내일 오전 여 ⁇ 시 사십분부터 전국의 고등학교 일 이 삼 학년 학생 구십 오만여 명이 올해 첫 전국 통합학력 평가를 실시한다고 밝혔다. 지난해는 코로나 일곱의 영향으로 학년별로 나누어 평가를 실시했지만 올해는 모든 학년이 같은 날 동시에 시험을 치른다. 재택시자는 전국 연합학력 평가 온라인 시스템의 시작 시간에 맞춰 제공되는 문제로 적용할 수 있지만\n",
      "/home2/nia/nia_s2t/01. 원천데이터/24. 교육뉴스/KND_00078.mp4\n",
      "Translated text: 지난해 통합교육을 실시한 이후에 모두가 함께 하는 교실이 크게 향상되고 있는 것으로 분석됐습니다. 비장애 학생들도 통합교육을 통해 장애인에 대한 부담도 줄어들었는데요.\n",
      "/home2/nia/nia_s2t/01. 원천데이터/24. 교육뉴스/KND_00058.mp4\n",
      "Translated text: 부산대 의전원에 입학한 후 이천 이십 년과 이천 이백 일 년 초 의사국가고시 실기시험과 필기시험에 합격했습니다. 이번 입학 취소 결정으로 의사 면허 취소 여부에도 영향을 미칠 것으로 보입니다. 현행 의료법상\n",
      "/home2/nia/nia_s2t/01. 원천데이터/24. 교육뉴스/KND_00020.mp4\n",
      "Translated text: 학부모들은 의무검사가 아니라 다행이라고 하면서도 걱정이 앞선다. 집에 와서 아이들이 부모가 아이를 낳는 것에 대해 정확성도 좀 떨어지는 것 같고 아이들이 많이 힘들고 부모보다 좀 더 편안해지는 사실이 있기 때문에 #아 아이들이 거부능력을 갖추었을 때 이런 부분이 너무 힘들 것 같아요. 학교에서 실습을 하는 것이 더 힘들 것 같습니다.\n",
      "/home2/nia/nia_s2t/01. 원천데이터/24. 교육뉴스/KND_00088.mp4\n",
      "Translated text: 지역 기업과 기관 사십여 곳에서 취업할 기회도 얻게 됩니다 인재들이 디지털 영향력 코딩 관련한 기술을 지니고 오기를 기대하고 있습니다 학생들에게 기업체가 요구하는 인재가 될 수 있도록 지방소멸을 받고 지방대학을 살리기 위해\n",
      "/home2/nia/nia_s2t/01. 원천데이터/24. 교육뉴스/KND_00055.mp4\n",
      "Translated text: 정부 대책이 절실합니다. 케이베스뉴스 민소원입니다. 오늘부터 충남에 사는 어린이와 만 18세 미만의 청소년은 시내버스를 하루에 세 번까지 무료로 탈 수 있습니다. 전국에서 처음으로 도입한 교통복지 정책인데\n",
      "/home2/nia/nia_s2t/01. 원천데이터/24. 교육뉴스/KND_00040.mp4\n",
      "Translated text: 적합하지 않은 지점이라고 반박했습니다. 거기 수학 같은 경우는 어 ⁇ 든 전체 수학을 대상으로 #어 평가가 진행되고 있다는 점 그 통합적 능력의 취지에 맞춰서 지금 문헌이 출제가 되고 있습니다. 다만 선택 과목이 너무 쉽거나 어려워서 유무리 문제가 발생하지 않도록 문헌 출제에 신경 쓰겠다고 밝혔습니다.\n",
      "/home2/nia/nia_s2t/01. 원천데이터/24. 교육뉴스/KND_00063.mp4\n",
      "Translated text: 처벌할 수 없는 입법 불법을 나타내는 것으로서 앞으로 영업법 위반 혐의로도 기소돼 있어 파기된 송심에서는 이에 대한 심리가 진행될 전망입니다. 케이비스뉴스 김민철입니다. 일본산 참 ⁇  등을 국내산이라고 속여 팔아서 오 억원 이상의 부당이  ⁇ 긴 일당이 적발됐습니다.\n",
      "/home2/nia/nia_s2t/01. 원천데이터/24. 교육뉴스/KND_00073.mp4\n",
      "Translated text: 이름은 교육시설 환경개선기금입니다. 벌써 일 조 팔천 억원이 쌓였습니다. 여기에 재정기금을 들면 교육청들의 두 기금으로 쌓아 놓은 돈은 오 조원 가까이 됩니다. 교육예산이 남는다는 것을 숨기기 위한 사업이라는 비판이 나옵니다.\n"
     ]
    }
   ],
   "source": [
    "for mp4_file in test:\n",
    "    print(mp4_file)\n",
    "    wav_file = mp4_to_wav_16bit(mp4_file)  # Convert MP4 to 16-bit WAV\n",
    "    translated_text, wav, sr = translator_large.predict(\n",
    "    #translated_text, wav, sr = translator.predict(\n",
    "        wav_file,\n",
    "        \"s2st\",  # Change this based on your task\n",
    "        \"kor\",  # Korean language\n",
    "        ngram_filtering=True\n",
    "    )\n",
    "    \n",
    "    print(f\"Translated text: {translated_text}\")"
   ]
  },
  {
   "cell_type": "markdown",
   "metadata": {},
   "source": [
    "## 실행 코드"
   ]
  },
  {
   "cell_type": "code",
   "execution_count": 15,
   "metadata": {},
   "outputs": [],
   "source": [
    "from tqdm import tqdm"
   ]
  },
  {
   "cell_type": "code",
   "execution_count": 8,
   "metadata": {},
   "outputs": [
    {
     "name": "stderr",
     "output_type": "stream",
     "text": [
      "  3%|▎         | 175/5259 [02:05<48:16,  1.75it/s]  "
     ]
    },
    {
     "name": "stdout",
     "output_type": "stream",
     "text": [
      "An error occurred with video /home2/nia/nia_s2t/01. 원천데이터/25. 문화뉴스/KNE_00029.mp4: Decoding failed. ffmpeg returned error code: 1\n",
      "\n",
      "Output from ffmpeg/avlib:\n",
      "\n",
      "ffmpeg version 4.2.7-0ubuntu0.1 Copyright (c) 2000-2022 the FFmpeg developers\n",
      "  built with gcc 9 (Ubuntu 9.4.0-1ubuntu1~20.04.1)\n",
      "  configuration: --prefix=/usr --extra-version=0ubuntu0.1 --toolchain=hardened --libdir=/usr/lib/x86_64-linux-gnu --incdir=/usr/include/x86_64-linux-gnu --arch=amd64 --enable-gpl --disable-stripping --enable-avresample --disable-filter=resample --enable-avisynth --enable-gnutls --enable-ladspa --enable-libaom --enable-libass --enable-libbluray --enable-libbs2b --enable-libcaca --enable-libcdio --enable-libcodec2 --enable-libflite --enable-libfontconfig --enable-libfreetype --enable-libfribidi --enable-libgme --enable-libgsm --enable-libjack --enable-libmp3lame --enable-libmysofa --enable-libopenjpeg --enable-libopenmpt --enable-libopus --enable-libpulse --enable-librsvg --enable-librubberband --enable-libshine --enable-libsnappy --enable-libsoxr --enable-libspeex --enable-libssh --enable-libtheora --enable-libtwolame --enable-libvidstab --enable-libvorbis --enable-libvpx --enable-libwavpack --enable-libwebp --enable-libx265 --enable-libxml2 --enable-libxvid --enable-libzmq --enable-libzvbi --enable-lv2 --enable-omx --enable-openal --enable-opencl --enable-opengl --enable-sdl2 --enable-libdc1394 --enable-libdrm --enable-libiec61883 --enable-nvenc --enable-chromaprint --enable-frei0r --enable-libx264 --enable-shared\n",
      "  libavutil      56. 31.100 / 56. 31.100\n",
      "  libavcodec     58. 54.100 / 58. 54.100\n",
      "  libavformat    58. 29.100 / 58. 29.100\n",
      "  libavdevice    58.  8.100 / 58.  8.100\n",
      "  libavfilter     7. 57.100 /  7. 57.100\n",
      "  libavresample   4.  0.  0 /  4.  0.  0\n",
      "  libswscale      5.  5.100 /  5.  5.100\n",
      "  libswresample   3.  5.100 /  3.  5.100\n",
      "  libpostproc    55.  5.100 / 55.  5.100\n",
      "[mov,mp4,m4a,3gp,3g2,mj2 @ 0x564643734700] moov atom not found\n",
      "/home2/nia/nia_s2t/01. 원천데이터/25. 문화뉴스/KNE_00029.mp4: Invalid data found when processing input\n",
      "\n"
     ]
    },
    {
     "name": "stderr",
     "output_type": "stream",
     "text": [
      " 22%|██▏       | 1177/5259 [14:35<44:42,  1.52it/s]  "
     ]
    },
    {
     "name": "stdout",
     "output_type": "stream",
     "text": [
      "An error occurred with video /home2/nia/nia_s2t/01. 원천데이터/23. 국제뉴스/KNC_00080.mp4: Decoding failed. ffmpeg returned error code: 1\n",
      "\n",
      "Output from ffmpeg/avlib:\n",
      "\n",
      "ffmpeg version 4.2.7-0ubuntu0.1 Copyright (c) 2000-2022 the FFmpeg developers\n",
      "  built with gcc 9 (Ubuntu 9.4.0-1ubuntu1~20.04.1)\n",
      "  configuration: --prefix=/usr --extra-version=0ubuntu0.1 --toolchain=hardened --libdir=/usr/lib/x86_64-linux-gnu --incdir=/usr/include/x86_64-linux-gnu --arch=amd64 --enable-gpl --disable-stripping --enable-avresample --disable-filter=resample --enable-avisynth --enable-gnutls --enable-ladspa --enable-libaom --enable-libass --enable-libbluray --enable-libbs2b --enable-libcaca --enable-libcdio --enable-libcodec2 --enable-libflite --enable-libfontconfig --enable-libfreetype --enable-libfribidi --enable-libgme --enable-libgsm --enable-libjack --enable-libmp3lame --enable-libmysofa --enable-libopenjpeg --enable-libopenmpt --enable-libopus --enable-libpulse --enable-librsvg --enable-librubberband --enable-libshine --enable-libsnappy --enable-libsoxr --enable-libspeex --enable-libssh --enable-libtheora --enable-libtwolame --enable-libvidstab --enable-libvorbis --enable-libvpx --enable-libwavpack --enable-libwebp --enable-libx265 --enable-libxml2 --enable-libxvid --enable-libzmq --enable-libzvbi --enable-lv2 --enable-omx --enable-openal --enable-opencl --enable-opengl --enable-sdl2 --enable-libdc1394 --enable-libdrm --enable-libiec61883 --enable-nvenc --enable-chromaprint --enable-frei0r --enable-libx264 --enable-shared\n",
      "  libavutil      56. 31.100 / 56. 31.100\n",
      "  libavcodec     58. 54.100 / 58. 54.100\n",
      "  libavformat    58. 29.100 / 58. 29.100\n",
      "  libavdevice    58.  8.100 / 58.  8.100\n",
      "  libavfilter     7. 57.100 /  7. 57.100\n",
      "  libavresample   4.  0.  0 /  4.  0.  0\n",
      "  libswscale      5.  5.100 /  5.  5.100\n",
      "  libswresample   3.  5.100 /  3.  5.100\n",
      "  libpostproc    55.  5.100 / 55.  5.100\n",
      "[mov,mp4,m4a,3gp,3g2,mj2 @ 0x5636c002b700] moov atom not found\n",
      "/home2/nia/nia_s2t/01. 원천데이터/23. 국제뉴스/KNC_00080.mp4: Invalid data found when processing input\n",
      "\n"
     ]
    },
    {
     "name": "stderr",
     "output_type": "stream",
     "text": [
      " 25%|██▌       | 1322/5259 [16:28<39:02,  1.68it/s]"
     ]
    },
    {
     "name": "stdout",
     "output_type": "stream",
     "text": [
      "An error occurred with video /home2/nia/nia_s2t/01. 원천데이터/27. 사회일반 뉴스/KNG_00442.mp4: Decoding failed. ffmpeg returned error code: 1\n",
      "\n",
      "Output from ffmpeg/avlib:\n",
      "\n",
      "ffmpeg version 4.2.7-0ubuntu0.1 Copyright (c) 2000-2022 the FFmpeg developers\n",
      "  built with gcc 9 (Ubuntu 9.4.0-1ubuntu1~20.04.1)\n",
      "  configuration: --prefix=/usr --extra-version=0ubuntu0.1 --toolchain=hardened --libdir=/usr/lib/x86_64-linux-gnu --incdir=/usr/include/x86_64-linux-gnu --arch=amd64 --enable-gpl --disable-stripping --enable-avresample --disable-filter=resample --enable-avisynth --enable-gnutls --enable-ladspa --enable-libaom --enable-libass --enable-libbluray --enable-libbs2b --enable-libcaca --enable-libcdio --enable-libcodec2 --enable-libflite --enable-libfontconfig --enable-libfreetype --enable-libfribidi --enable-libgme --enable-libgsm --enable-libjack --enable-libmp3lame --enable-libmysofa --enable-libopenjpeg --enable-libopenmpt --enable-libopus --enable-libpulse --enable-librsvg --enable-librubberband --enable-libshine --enable-libsnappy --enable-libsoxr --enable-libspeex --enable-libssh --enable-libtheora --enable-libtwolame --enable-libvidstab --enable-libvorbis --enable-libvpx --enable-libwavpack --enable-libwebp --enable-libx265 --enable-libxml2 --enable-libxvid --enable-libzmq --enable-libzvbi --enable-lv2 --enable-omx --enable-openal --enable-opencl --enable-opengl --enable-sdl2 --enable-libdc1394 --enable-libdrm --enable-libiec61883 --enable-nvenc --enable-chromaprint --enable-frei0r --enable-libx264 --enable-shared\n",
      "  libavutil      56. 31.100 / 56. 31.100\n",
      "  libavcodec     58. 54.100 / 58. 54.100\n",
      "  libavformat    58. 29.100 / 58. 29.100\n",
      "  libavdevice    58.  8.100 / 58.  8.100\n",
      "  libavfilter     7. 57.100 /  7. 57.100\n",
      "  libavresample   4.  0.  0 /  4.  0.  0\n",
      "  libswscale      5.  5.100 /  5.  5.100\n",
      "  libswresample   3.  5.100 /  3.  5.100\n",
      "  libpostproc    55.  5.100 / 55.  5.100\n",
      "[mov,mp4,m4a,3gp,3g2,mj2 @ 0x5594e4255700] moov atom not found\n",
      "/home2/nia/nia_s2t/01. 원천데이터/27. 사회일반 뉴스/KNG_00442.mp4: Invalid data found when processing input\n",
      "\n"
     ]
    },
    {
     "name": "stderr",
     "output_type": "stream",
     "text": [
      " 34%|███▎      | 1765/5259 [22:16<36:45,  1.58it/s]"
     ]
    },
    {
     "name": "stdout",
     "output_type": "stream",
     "text": [
      "An error occurred with video /home2/nia/nia_s2t/01. 원천데이터/28. 과학기술뉴스/KNH_00455.mp4: Decoding failed. ffmpeg returned error code: 1\n",
      "\n",
      "Output from ffmpeg/avlib:\n",
      "\n",
      "ffmpeg version 4.2.7-0ubuntu0.1 Copyright (c) 2000-2022 the FFmpeg developers\n",
      "  built with gcc 9 (Ubuntu 9.4.0-1ubuntu1~20.04.1)\n",
      "  configuration: --prefix=/usr --extra-version=0ubuntu0.1 --toolchain=hardened --libdir=/usr/lib/x86_64-linux-gnu --incdir=/usr/include/x86_64-linux-gnu --arch=amd64 --enable-gpl --disable-stripping --enable-avresample --disable-filter=resample --enable-avisynth --enable-gnutls --enable-ladspa --enable-libaom --enable-libass --enable-libbluray --enable-libbs2b --enable-libcaca --enable-libcdio --enable-libcodec2 --enable-libflite --enable-libfontconfig --enable-libfreetype --enable-libfribidi --enable-libgme --enable-libgsm --enable-libjack --enable-libmp3lame --enable-libmysofa --enable-libopenjpeg --enable-libopenmpt --enable-libopus --enable-libpulse --enable-librsvg --enable-librubberband --enable-libshine --enable-libsnappy --enable-libsoxr --enable-libspeex --enable-libssh --enable-libtheora --enable-libtwolame --enable-libvidstab --enable-libvorbis --enable-libvpx --enable-libwavpack --enable-libwebp --enable-libx265 --enable-libxml2 --enable-libxvid --enable-libzmq --enable-libzvbi --enable-lv2 --enable-omx --enable-openal --enable-opencl --enable-opengl --enable-sdl2 --enable-libdc1394 --enable-libdrm --enable-libiec61883 --enable-nvenc --enable-chromaprint --enable-frei0r --enable-libx264 --enable-shared\n",
      "  libavutil      56. 31.100 / 56. 31.100\n",
      "  libavcodec     58. 54.100 / 58. 54.100\n",
      "  libavformat    58. 29.100 / 58. 29.100\n",
      "  libavdevice    58.  8.100 / 58.  8.100\n",
      "  libavfilter     7. 57.100 /  7. 57.100\n",
      "  libavresample   4.  0.  0 /  4.  0.  0\n",
      "  libswscale      5.  5.100 /  5.  5.100\n",
      "  libswresample   3.  5.100 /  3.  5.100\n",
      "  libpostproc    55.  5.100 / 55.  5.100\n",
      "[mov,mp4,m4a,3gp,3g2,mj2 @ 0x56055bded700] moov atom not found\n",
      "/home2/nia/nia_s2t/01. 원천데이터/28. 과학기술뉴스/KNH_00455.mp4: Invalid data found when processing input\n",
      "\n"
     ]
    },
    {
     "name": "stderr",
     "output_type": "stream",
     "text": [
      " 61%|██████    | 3195/5259 [41:02<25:00,  1.38it/s]"
     ]
    }
   ],
   "source": [
    "from tqdm import tqdm  # Import tqdm for progress bar\n",
    "import pandas as pd  # Import pandas library\n",
    "import os\n",
    "\n",
    "# Initialize empty lists for successful conversions\n",
    "video_list = []\n",
    "speech_to_text_list = []\n",
    "\n",
    "# Initialize an empty list to keep track of videos that caused errors\n",
    "error_video_list = []\n",
    "\n",
    "# Iterate through all the MP4 files\n",
    "for mp4_file in tqdm(all_mp4_files):\n",
    "    try:\n",
    "        # Extract the base file name\n",
    "        base_name = os.path.basename(mp4_file)\n",
    "        \n",
    "        # Convert MP4 to 16-bit WAV\n",
    "        wav_file = mp4_to_wav_16bit(mp4_file)\n",
    "        \n",
    "        # Perform speech-to-text prediction\n",
    "        translated_text, wav, sr = translator_medium.predict(\n",
    "            wav_file,\n",
    "            \"s2st\",  # Change this based on your task\n",
    "            \"kor\",  # Korean language\n",
    "            ngram_filtering=True\n",
    "        )\n",
    "        \n",
    "        # Append to lists\n",
    "        video_list.append(base_name)\n",
    "        speech_to_text_list.append(translated_text)\n",
    "        \n",
    "    except Exception as e:\n",
    "        print(f\"An error occurred with video {mp4_file}: {e}\")\n",
    "        error_video_list.append(mp4_file)\n",
    "\n",
    "# Create DataFrame from lists for successful conversions\n",
    "df = pd.DataFrame({\n",
    "    'video': video_list,\n",
    "    'speech_to_text': speech_to_text_list\n",
    "})\n",
    "\n",
    "# Create DataFrame for videos that caused errors\n",
    "df_errors = pd.DataFrame({\n",
    "    'error_video': error_video_list\n",
    "})"
   ]
  }
 ],
 "metadata": {
  "kernelspec": {
   "display_name": "s2t",
   "language": "python",
   "name": "python3"
  },
  "language_info": {
   "codemirror_mode": {
    "name": "ipython",
    "version": 3
   },
   "file_extension": ".py",
   "mimetype": "text/x-python",
   "name": "python",
   "nbconvert_exporter": "python",
   "pygments_lexer": "ipython3",
   "version": "3.9.18"
  }
 },
 "nbformat": 4,
 "nbformat_minor": 2
}
